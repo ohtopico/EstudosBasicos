{
  "nbformat": 4,
  "nbformat_minor": 0,
  "metadata": {
    "colab": {
      "provenance": []
    },
    "kernelspec": {
      "name": "python3",
      "display_name": "Python 3"
    }
  },
  "cells": [
    {
      "cell_type": "markdown",
      "source": [
        "# **Testes utilizando a biblioteca Tweepy**\n"
      ],
      "metadata": {
        "id": "Ot7Ha3cYpj21"
      }
    },
    {
      "cell_type": "code",
      "metadata": {
        "id": "vqu34SCBAZEY"
      },
      "source": [
        "#instalação da biblioteca\n",
        "pip install tweepy"
      ],
      "execution_count": null,
      "outputs": []
    },
    {
      "cell_type": "code",
      "source": [
        "import tweepy"
      ],
      "metadata": {
        "id": "4vsLZp0OzGW1"
      },
      "execution_count": null,
      "outputs": []
    },
    {
      "cell_type": "code",
      "metadata": {
        "id": "jQ39YB8FBaEY"
      },
      "source": [
        "#IMPORTANTE: preencha com as suas chaves\n",
        "auth = tweepy.OAuthHandler()\n",
        "auth.set_access_token()\n",
        "\n",
        "api = tweepy.API(auth)"
      ],
      "execution_count": 75,
      "outputs": []
    },
    {
      "cell_type": "code",
      "source": [
        "#Mostra uma lista de tweets aleatórios da sua timeline\n",
        "public_tweets = api.home_timeline()\n",
        "public_tweets"
      ],
      "metadata": {
        "id": "reu4ITPqr0Bj"
      },
      "execution_count": null,
      "outputs": []
    },
    {
      "cell_type": "markdown",
      "source": [
        "## Teste 1: Ver as trends em um local"
      ],
      "metadata": {
        "id": "Ox9PoQDEphTR"
      }
    },
    {
      "cell_type": "code",
      "source": [
        "#mostra uma lista de trends retiradas do Yahoo\n",
        "api.trends_available()"
      ],
      "metadata": {
        "id": "uLQKmw14uqSC"
      },
      "execution_count": null,
      "outputs": []
    },
    {
      "cell_type": "code",
      "source": [
        "#mostra as trends em determinada região de acordo com latitude e longitude\n",
        "api.trends_closest(-29.6914, -53.8008)"
      ],
      "metadata": {
        "colab": {
          "base_uri": "https://localhost:8080/"
        },
        "id": "aSgMAI48vpEz",
        "outputId": "d5dba920-e908-4ac2-b317-3605b3adc583"
      },
      "execution_count": 49,
      "outputs": [
        {
          "output_type": "execute_result",
          "data": {
            "text/plain": [
              "[{'name': 'Porto Alegre',\n",
              "  'placeType': {'code': 7, 'name': 'Town'},\n",
              "  'url': 'http://where.yahooapis.com/v1/place/455823',\n",
              "  'parentid': 23424768,\n",
              "  'country': 'Brazil',\n",
              "  'woeid': 455823,\n",
              "  'countryCode': 'BR'}]"
            ]
          },
          "metadata": {},
          "execution_count": 49
        }
      ]
    },
    {
      "cell_type": "code",
      "source": [
        "# Busca tweets em uma localização especifica\n",
        "locais = api.geo_search(lat = -29.6914, long = -53.8008)\n",
        "\n",
        "#mostrando as cidades abrangidas na localização selecionada\n",
        "for tweet in locais:\n",
        "   print(\"Cidade: \", tweet.name)"
      ],
      "metadata": {
        "id": "ZSXGw7gZwFuf"
      },
      "execution_count": null,
      "outputs": []
    },
    {
      "cell_type": "markdown",
      "source": [
        "# Teste 2: Vendo opiniões sobre uma marca"
      ],
      "metadata": {
        "id": "8qRiYMORvcK2"
      }
    },
    {
      "cell_type": "code",
      "metadata": {
        "id": "OpTAYSc0O36W"
      },
      "source": [
        "# Ver tweets que mencionaram a sua conta\n",
        "for tweet in api.mentions_timeline():\n",
        "   print(tweet)"
      ],
      "execution_count": null,
      "outputs": []
    }
  ]
}