{
  "nbformat": 4,
  "nbformat_minor": 0,
  "metadata": {
    "colab": {
      "provenance": []
    },
    "kernelspec": {
      "name": "python3",
      "display_name": "Python 3"
    }
  },
  "cells": [
    {
      "cell_type": "markdown",
      "metadata": {
        "id": "PPqDO4N5dQ0q"
      },
      "source": [
        "# Exemplo de classificação supervisionada com Árvore de decisão usando Python\n",
        "- Predição sobre a realização de empréstimo"
      ]
    },
    {
      "cell_type": "markdown",
      "source": [
        "## Importação das bibliotecas e da base de dados"
      ],
      "metadata": {
        "id": "uBfMkfX91lki"
      }
    },
    {
      "cell_type": "code",
      "metadata": {
        "id": "vabyn3Qud1ky",
        "colab": {
          "base_uri": "https://localhost:8080/",
          "height": 59
        },
        "outputId": "8a56b9a4-edce-4ece-ff3b-ca3d92d49b1c"
      },
      "source": [
        "from google.colab import files\n",
        "files.upload()"
      ],
      "execution_count": 25,
      "outputs": [
        {
          "output_type": "display_data",
          "data": {
            "text/plain": [
              "<IPython.core.display.HTML object>"
            ],
            "text/html": [
              "\n",
              "     <input type=\"file\" id=\"files-23ee20ee-64f0-49b1-b97c-7d8b08f0550f\" name=\"files[]\" multiple disabled\n",
              "        style=\"border:none\" />\n",
              "     <output id=\"result-23ee20ee-64f0-49b1-b97c-7d8b08f0550f\">\n",
              "      Upload widget is only available when the cell has been executed in the\n",
              "      current browser session. Please rerun this cell to enable.\n",
              "      </output>\n",
              "      <script>// Copyright 2017 Google LLC\n",
              "//\n",
              "// Licensed under the Apache License, Version 2.0 (the \"License\");\n",
              "// you may not use this file except in compliance with the License.\n",
              "// You may obtain a copy of the License at\n",
              "//\n",
              "//      http://www.apache.org/licenses/LICENSE-2.0\n",
              "//\n",
              "// Unless required by applicable law or agreed to in writing, software\n",
              "// distributed under the License is distributed on an \"AS IS\" BASIS,\n",
              "// WITHOUT WARRANTIES OR CONDITIONS OF ANY KIND, either express or implied.\n",
              "// See the License for the specific language governing permissions and\n",
              "// limitations under the License.\n",
              "\n",
              "/**\n",
              " * @fileoverview Helpers for google.colab Python module.\n",
              " */\n",
              "(function(scope) {\n",
              "function span(text, styleAttributes = {}) {\n",
              "  const element = document.createElement('span');\n",
              "  element.textContent = text;\n",
              "  for (const key of Object.keys(styleAttributes)) {\n",
              "    element.style[key] = styleAttributes[key];\n",
              "  }\n",
              "  return element;\n",
              "}\n",
              "\n",
              "// Max number of bytes which will be uploaded at a time.\n",
              "const MAX_PAYLOAD_SIZE = 100 * 1024;\n",
              "\n",
              "function _uploadFiles(inputId, outputId) {\n",
              "  const steps = uploadFilesStep(inputId, outputId);\n",
              "  const outputElement = document.getElementById(outputId);\n",
              "  // Cache steps on the outputElement to make it available for the next call\n",
              "  // to uploadFilesContinue from Python.\n",
              "  outputElement.steps = steps;\n",
              "\n",
              "  return _uploadFilesContinue(outputId);\n",
              "}\n",
              "\n",
              "// This is roughly an async generator (not supported in the browser yet),\n",
              "// where there are multiple asynchronous steps and the Python side is going\n",
              "// to poll for completion of each step.\n",
              "// This uses a Promise to block the python side on completion of each step,\n",
              "// then passes the result of the previous step as the input to the next step.\n",
              "function _uploadFilesContinue(outputId) {\n",
              "  const outputElement = document.getElementById(outputId);\n",
              "  const steps = outputElement.steps;\n",
              "\n",
              "  const next = steps.next(outputElement.lastPromiseValue);\n",
              "  return Promise.resolve(next.value.promise).then((value) => {\n",
              "    // Cache the last promise value to make it available to the next\n",
              "    // step of the generator.\n",
              "    outputElement.lastPromiseValue = value;\n",
              "    return next.value.response;\n",
              "  });\n",
              "}\n",
              "\n",
              "/**\n",
              " * Generator function which is called between each async step of the upload\n",
              " * process.\n",
              " * @param {string} inputId Element ID of the input file picker element.\n",
              " * @param {string} outputId Element ID of the output display.\n",
              " * @return {!Iterable<!Object>} Iterable of next steps.\n",
              " */\n",
              "function* uploadFilesStep(inputId, outputId) {\n",
              "  const inputElement = document.getElementById(inputId);\n",
              "  inputElement.disabled = false;\n",
              "\n",
              "  const outputElement = document.getElementById(outputId);\n",
              "  outputElement.innerHTML = '';\n",
              "\n",
              "  const pickedPromise = new Promise((resolve) => {\n",
              "    inputElement.addEventListener('change', (e) => {\n",
              "      resolve(e.target.files);\n",
              "    });\n",
              "  });\n",
              "\n",
              "  const cancel = document.createElement('button');\n",
              "  inputElement.parentElement.appendChild(cancel);\n",
              "  cancel.textContent = 'Cancel upload';\n",
              "  const cancelPromise = new Promise((resolve) => {\n",
              "    cancel.onclick = () => {\n",
              "      resolve(null);\n",
              "    };\n",
              "  });\n",
              "\n",
              "  // Wait for the user to pick the files.\n",
              "  const files = yield {\n",
              "    promise: Promise.race([pickedPromise, cancelPromise]),\n",
              "    response: {\n",
              "      action: 'starting',\n",
              "    }\n",
              "  };\n",
              "\n",
              "  cancel.remove();\n",
              "\n",
              "  // Disable the input element since further picks are not allowed.\n",
              "  inputElement.disabled = true;\n",
              "\n",
              "  if (!files) {\n",
              "    return {\n",
              "      response: {\n",
              "        action: 'complete',\n",
              "      }\n",
              "    };\n",
              "  }\n",
              "\n",
              "  for (const file of files) {\n",
              "    const li = document.createElement('li');\n",
              "    li.append(span(file.name, {fontWeight: 'bold'}));\n",
              "    li.append(span(\n",
              "        `(${file.type || 'n/a'}) - ${file.size} bytes, ` +\n",
              "        `last modified: ${\n",
              "            file.lastModifiedDate ? file.lastModifiedDate.toLocaleDateString() :\n",
              "                                    'n/a'} - `));\n",
              "    const percent = span('0% done');\n",
              "    li.appendChild(percent);\n",
              "\n",
              "    outputElement.appendChild(li);\n",
              "\n",
              "    const fileDataPromise = new Promise((resolve) => {\n",
              "      const reader = new FileReader();\n",
              "      reader.onload = (e) => {\n",
              "        resolve(e.target.result);\n",
              "      };\n",
              "      reader.readAsArrayBuffer(file);\n",
              "    });\n",
              "    // Wait for the data to be ready.\n",
              "    let fileData = yield {\n",
              "      promise: fileDataPromise,\n",
              "      response: {\n",
              "        action: 'continue',\n",
              "      }\n",
              "    };\n",
              "\n",
              "    // Use a chunked sending to avoid message size limits. See b/62115660.\n",
              "    let position = 0;\n",
              "    do {\n",
              "      const length = Math.min(fileData.byteLength - position, MAX_PAYLOAD_SIZE);\n",
              "      const chunk = new Uint8Array(fileData, position, length);\n",
              "      position += length;\n",
              "\n",
              "      const base64 = btoa(String.fromCharCode.apply(null, chunk));\n",
              "      yield {\n",
              "        response: {\n",
              "          action: 'append',\n",
              "          file: file.name,\n",
              "          data: base64,\n",
              "        },\n",
              "      };\n",
              "\n",
              "      let percentDone = fileData.byteLength === 0 ?\n",
              "          100 :\n",
              "          Math.round((position / fileData.byteLength) * 100);\n",
              "      percent.textContent = `${percentDone}% done`;\n",
              "\n",
              "    } while (position < fileData.byteLength);\n",
              "  }\n",
              "\n",
              "  // All done.\n",
              "  yield {\n",
              "    response: {\n",
              "      action: 'complete',\n",
              "    }\n",
              "  };\n",
              "}\n",
              "\n",
              "scope.google = scope.google || {};\n",
              "scope.google.colab = scope.google.colab || {};\n",
              "scope.google.colab._files = {\n",
              "  _uploadFiles,\n",
              "  _uploadFilesContinue,\n",
              "};\n",
              "})(self);\n",
              "</script> "
            ]
          },
          "metadata": {}
        },
        {
          "output_type": "execute_result",
          "data": {
            "text/plain": [
              "{}"
            ]
          },
          "metadata": {},
          "execution_count": 25
        }
      ]
    },
    {
      "cell_type": "code",
      "metadata": {
        "id": "HF4mFBMcmcRN"
      },
      "source": [
        "import pandas as pd\n",
        "dados= pd.read_csv('emprestimo_alto_baixo.csv', sep=',')"
      ],
      "execution_count": 26,
      "outputs": []
    },
    {
      "cell_type": "code",
      "metadata": {
        "id": "eWhGk2hrKkoA"
      },
      "source": [
        "#outras bibliotecas necessárias\n",
        "from sklearn import tree\n",
        "from sklearn.metrics import classification_report\n",
        "from sklearn.model_selection import cross_val_predict\n",
        "from sklearn.metrics import confusion_matrix"
      ],
      "execution_count": 27,
      "outputs": []
    },
    {
      "cell_type": "markdown",
      "metadata": {
        "id": "0a0XTOSj-Qs5"
      },
      "source": [
        "### Visualização os atributos e tipos de dados de cada um\n",
        "\n"
      ]
    },
    {
      "cell_type": "code",
      "metadata": {
        "id": "n843gd3fpDnP",
        "colab": {
          "base_uri": "https://localhost:8080/"
        },
        "outputId": "b0e2963d-aab2-4f2a-d8a9-cd30f7bdd0fd"
      },
      "source": [
        "print(dados.dtypes)\n",
        "print(dados)"
      ],
      "execution_count": 28,
      "outputs": [
        {
          "output_type": "stream",
          "name": "stdout",
          "text": [
            "renda_mensal     int64\n",
            "divida_total     int64\n",
            "idade            int64\n",
            "risco           object\n",
            "dtype: object\n",
            "    renda_mensal  divida_total  idade  risco\n",
            "0           5000         20000      1   ALTO\n",
            "1           3500         21000      2   ALTO\n",
            "2           5500          6000      3  BAIXO\n",
            "3           3000         30000      1   ALTO\n",
            "4           1500          8000      2   ALTO\n",
            "5            800          6000      2   ALTO\n",
            "6           4500          3000      2  BAIXO\n",
            "7           8000          7500      2  BAIXO\n",
            "8           9000         12000      3   ALTO\n",
            "9          10500         20000      1  BAIXO\n",
            "10         21000         35000      3   ALTO\n",
            "11          8700         11000      1  BAIXO\n",
            "12         11500         30000      1   ALTO\n",
            "13         10400         15000      1  BAIXO\n",
            "14          2000          6000      2   ALTO\n",
            "15          3000         15000      2   ALTO\n",
            "16          5500         12000      3   ALTO\n",
            "17          3000          4000      1   ALTO\n",
            "18         12000         20000      2  BAIXO\n",
            "19          1100         15000      1   ALTO\n",
            "20          4500          3000      3  BAIXO\n",
            "21         12000          8000      2  BAIXO\n",
            "22          9000         14000      3   ALTO\n",
            "23         10500          8500      2  BAIXO\n",
            "24          8500         11000      3   ALTO\n",
            "25          8700         25000      3   ALTO\n",
            "26         11500         15000      3   ALTO\n",
            "27         10400         16000      2  BAIXO\n",
            "28          9500          8300      2  BAIXO\n",
            "29         11300         14000      3   ALTO\n",
            "30         21000         25000      3   ALTO\n",
            "31         11500         15000      3   ALTO\n",
            "32         10800          6000      2  BAIXO\n",
            "33         14200          9000      1  BAIXO\n",
            "34         11800         17000      2   ALTO\n",
            "35         12000         14000      1   ALTO\n",
            "36          2700          1300      2   ALTO\n",
            "37         17000          8000      2  BAIXO\n",
            "38          3300           800      1   ALTO\n",
            "39         18900         11000      2  BAIXO\n"
          ]
        }
      ]
    },
    {
      "cell_type": "markdown",
      "metadata": {
        "id": "WLTVf40ctfwN"
      },
      "source": [
        "## Limpeza e pré-processamento dos dados\n",
        "- Verifica a existência de valores nulos.\n"
      ]
    },
    {
      "cell_type": "code",
      "metadata": {
        "id": "RPkSj1oGqcHu",
        "colab": {
          "base_uri": "https://localhost:8080/"
        },
        "outputId": "54a2e2fb-4877-4b0b-fe23-c28d83ac7590"
      },
      "source": [
        "dados.isnull().sum()"
      ],
      "execution_count": 29,
      "outputs": [
        {
          "output_type": "execute_result",
          "data": {
            "text/plain": [
              "renda_mensal    0\n",
              "divida_total    0\n",
              "idade           0\n",
              "risco           0\n",
              "dtype: int64"
            ]
          },
          "metadata": {},
          "execution_count": 29
        }
      ]
    },
    {
      "cell_type": "markdown",
      "metadata": {
        "id": "FLr1VQxgIOoP"
      },
      "source": [
        "## Aplicação do método de Árvore de decisão\n"
      ]
    },
    {
      "cell_type": "markdown",
      "metadata": {
        "id": "8WXP0eyFLwFt"
      },
      "source": [
        "### Definição dos atributos para treinamento e classe\n",
        "- São definidos os parâmetros do classificador baseado em AD\n",
        "- O número de atributos é contado, retirando o de classe\n",
        "- Posteriormente é armazenada a lista dos valores sem a classe\n",
        "- X recebe os valores dos atributos e y os valores da classe\n"
      ]
    },
    {
      "cell_type": "code",
      "metadata": {
        "id": "JWpgWYJyxxCh",
        "colab": {
          "base_uri": "https://localhost:8080/"
        },
        "outputId": "ba75a137-837c-41ea-da23-e0eaa371e5df"
      },
      "source": [
        "# Cria o objeto da classe que será treinada\n",
        "classificador_tree = tree.DecisionTreeClassifier(random_state=1)\n",
        "\n",
        "# Usando todos os atributos\n",
        "numatributos = len(dados.columns) - 1\n",
        "atributos = list(dados.columns[0:numatributos]) \n",
        "\n",
        "# Selecionando alguns atributos\n",
        "#atributos = ['Renda mensal', \"Divida total', 'Idade']\n",
        "\n",
        "X = dados[atributos]\n",
        "y = dados['risco']\n",
        "\n",
        "#print(numatributos)\n",
        "#print(atributos)\n",
        "\n",
        "print(X)\n",
        "print(y)"
      ],
      "execution_count": 30,
      "outputs": [
        {
          "output_type": "stream",
          "name": "stdout",
          "text": [
            "    renda_mensal  divida_total  idade\n",
            "0           5000         20000      1\n",
            "1           3500         21000      2\n",
            "2           5500          6000      3\n",
            "3           3000         30000      1\n",
            "4           1500          8000      2\n",
            "5            800          6000      2\n",
            "6           4500          3000      2\n",
            "7           8000          7500      2\n",
            "8           9000         12000      3\n",
            "9          10500         20000      1\n",
            "10         21000         35000      3\n",
            "11          8700         11000      1\n",
            "12         11500         30000      1\n",
            "13         10400         15000      1\n",
            "14          2000          6000      2\n",
            "15          3000         15000      2\n",
            "16          5500         12000      3\n",
            "17          3000          4000      1\n",
            "18         12000         20000      2\n",
            "19          1100         15000      1\n",
            "20          4500          3000      3\n",
            "21         12000          8000      2\n",
            "22          9000         14000      3\n",
            "23         10500          8500      2\n",
            "24          8500         11000      3\n",
            "25          8700         25000      3\n",
            "26         11500         15000      3\n",
            "27         10400         16000      2\n",
            "28          9500          8300      2\n",
            "29         11300         14000      3\n",
            "30         21000         25000      3\n",
            "31         11500         15000      3\n",
            "32         10800          6000      2\n",
            "33         14200          9000      1\n",
            "34         11800         17000      2\n",
            "35         12000         14000      1\n",
            "36          2700          1300      2\n",
            "37         17000          8000      2\n",
            "38          3300           800      1\n",
            "39         18900         11000      2\n",
            "0      ALTO\n",
            "1      ALTO\n",
            "2     BAIXO\n",
            "3      ALTO\n",
            "4      ALTO\n",
            "5      ALTO\n",
            "6     BAIXO\n",
            "7     BAIXO\n",
            "8      ALTO\n",
            "9     BAIXO\n",
            "10     ALTO\n",
            "11    BAIXO\n",
            "12     ALTO\n",
            "13    BAIXO\n",
            "14     ALTO\n",
            "15     ALTO\n",
            "16     ALTO\n",
            "17     ALTO\n",
            "18    BAIXO\n",
            "19     ALTO\n",
            "20    BAIXO\n",
            "21    BAIXO\n",
            "22     ALTO\n",
            "23    BAIXO\n",
            "24     ALTO\n",
            "25     ALTO\n",
            "26     ALTO\n",
            "27    BAIXO\n",
            "28    BAIXO\n",
            "29     ALTO\n",
            "30     ALTO\n",
            "31     ALTO\n",
            "32    BAIXO\n",
            "33    BAIXO\n",
            "34     ALTO\n",
            "35     ALTO\n",
            "36     ALTO\n",
            "37    BAIXO\n",
            "38     ALTO\n",
            "39    BAIXO\n",
            "Name: risco, dtype: object\n"
          ]
        }
      ]
    },
    {
      "cell_type": "code",
      "metadata": {
        "id": "isfH1wKTMWuE",
        "colab": {
          "base_uri": "https://localhost:8080/"
        },
        "outputId": "82ecaddf-dcb4-4742-de14-cc22f82a8858"
      },
      "source": [
        "# Separação em dois conjuntos: treinamento e teste\n",
        "from sklearn.model_selection import train_test_split  \n",
        "treinamento_x, validacao_x, treinamento_y, validacao_y = train_test_split(X, y, test_size = 0.20)\n",
        "\n",
        "print(treinamento_x)\n",
        "print(treinamento_y)"
      ],
      "execution_count": 32,
      "outputs": [
        {
          "output_type": "stream",
          "name": "stdout",
          "text": [
            "    renda_mensal  divida_total  idade\n",
            "1           3500         21000      2\n",
            "22          9000         14000      3\n",
            "8           9000         12000      3\n",
            "20          4500          3000      3\n",
            "39         18900         11000      2\n",
            "27         10400         16000      2\n",
            "24          8500         11000      3\n",
            "19          1100         15000      1\n",
            "18         12000         20000      2\n",
            "21         12000          8000      2\n",
            "13         10400         15000      1\n",
            "37         17000          8000      2\n",
            "9          10500         20000      1\n",
            "11          8700         11000      1\n",
            "26         11500         15000      3\n",
            "15          3000         15000      2\n",
            "0           5000         20000      1\n",
            "14          2000          6000      2\n",
            "30         21000         25000      3\n",
            "36          2700          1300      2\n",
            "28          9500          8300      2\n",
            "12         11500         30000      1\n",
            "33         14200          9000      1\n",
            "2           5500          6000      3\n",
            "32         10800          6000      2\n",
            "31         11500         15000      3\n",
            "23         10500          8500      2\n",
            "6           4500          3000      2\n",
            "29         11300         14000      3\n",
            "25          8700         25000      3\n",
            "3           3000         30000      1\n",
            "7           8000          7500      2\n",
            "1      ALTO\n",
            "22     ALTO\n",
            "8      ALTO\n",
            "20    BAIXO\n",
            "39    BAIXO\n",
            "27    BAIXO\n",
            "24     ALTO\n",
            "19     ALTO\n",
            "18    BAIXO\n",
            "21    BAIXO\n",
            "13    BAIXO\n",
            "37    BAIXO\n",
            "9     BAIXO\n",
            "11    BAIXO\n",
            "26     ALTO\n",
            "15     ALTO\n",
            "0      ALTO\n",
            "14     ALTO\n",
            "30     ALTO\n",
            "36     ALTO\n",
            "28    BAIXO\n",
            "12     ALTO\n",
            "33    BAIXO\n",
            "2     BAIXO\n",
            "32    BAIXO\n",
            "31     ALTO\n",
            "23    BAIXO\n",
            "6     BAIXO\n",
            "29     ALTO\n",
            "25     ALTO\n",
            "3      ALTO\n",
            "7     BAIXO\n",
            "Name: risco, dtype: object\n"
          ]
        }
      ]
    },
    {
      "cell_type": "markdown",
      "metadata": {
        "id": "dqNS_C9KNYzu"
      },
      "source": [
        "### Processo de aprendizado\n",
        "-  Efetua o aprendizado e posteriormente uma validação cruzada usando K-fold de 10.\n",
        "- Mostra a matriz de confusão"
      ]
    },
    {
      "cell_type": "code",
      "metadata": {
        "id": "X6VtEJYwQTZ5",
        "colab": {
          "base_uri": "https://localhost:8080/"
        },
        "outputId": "c870ddae-2bf4-4392-af29-c57ca7063361"
      },
      "source": [
        "resultado = classificador_tree.fit(treinamento_x, treinamento_y)\n",
        "\n",
        "predicted = cross_val_predict(classificador_tree, treinamento_x, treinamento_y, cv=10)\n",
        "\n",
        "expected = treinamento_y.values\n",
        "\n",
        "print(confusion_matrix(expected, predicted))\n",
        "\n",
        "#print(\"Esperado:\\n\")\n",
        "#print(expected)\n",
        "#print(\"Previsto:\\n\")\n",
        "#print(predicted)\n",
        "\n",
        "from sklearn.metrics import accuracy_score\n",
        "print(classification_report(expected, predicted))\n",
        "print(accuracy_score(expected, predicted))"
      ],
      "execution_count": 33,
      "outputs": [
        {
          "output_type": "stream",
          "name": "stdout",
          "text": [
            "[[13  3]\n",
            " [ 3 13]]\n",
            "              precision    recall  f1-score   support\n",
            "\n",
            "        ALTO       0.81      0.81      0.81        16\n",
            "       BAIXO       0.81      0.81      0.81        16\n",
            "\n",
            "    accuracy                           0.81        32\n",
            "   macro avg       0.81      0.81      0.81        32\n",
            "weighted avg       0.81      0.81      0.81        32\n",
            "\n",
            "0.8125\n"
          ]
        }
      ]
    },
    {
      "cell_type": "code",
      "metadata": {
        "colab": {
          "base_uri": "https://localhost:8080/"
        },
        "id": "QKnhBpWKw6A4",
        "outputId": "324c1f50-cf73-408d-8a86-6660809b7b92"
      },
      "source": [
        "# Problema de classes desbalanceadas\n",
        "dados.groupby(dados['risco']).size()"
      ],
      "execution_count": 35,
      "outputs": [
        {
          "output_type": "execute_result",
          "data": {
            "text/plain": [
              "risco\n",
              "ALTO     24\n",
              "BAIXO    16\n",
              "dtype: int64"
            ]
          },
          "metadata": {},
          "execution_count": 35
        }
      ]
    },
    {
      "cell_type": "markdown",
      "metadata": {
        "id": "WLVhAjflCPRP"
      },
      "source": [
        "### Validação em outro conjunto de dados\n",
        "- Usa o conjunto teste/validação"
      ]
    },
    {
      "cell_type": "code",
      "metadata": {
        "id": "1lyM0DNPrRgY",
        "colab": {
          "base_uri": "https://localhost:8080/"
        },
        "outputId": "69e420d5-91fe-4849-e9e4-8ab826928239"
      },
      "source": [
        "predicted = classificador_tree.predict(validacao_x)\n",
        "expected = validacao_y.values\n",
        "\n",
        "print(confusion_matrix(expected, predicted))\n",
        "\n",
        "#print(\"\\nEsperado:\\n\")\n",
        "#print(expected)\n",
        "#print(\"Previsto:\\n\")\n",
        "#print(predicted)\n",
        "\n",
        "print(classification_report(expected, predicted))\n",
        "print(accuracy_score(expected, predicted))"
      ],
      "execution_count": 36,
      "outputs": [
        {
          "output_type": "stream",
          "name": "stdout",
          "text": [
            "[[6 2]\n",
            " [0 0]]\n",
            "              precision    recall  f1-score   support\n",
            "\n",
            "        ALTO       1.00      0.75      0.86         8\n",
            "       BAIXO       0.00      0.00      0.00         0\n",
            "\n",
            "    accuracy                           0.75         8\n",
            "   macro avg       0.50      0.38      0.43         8\n",
            "weighted avg       1.00      0.75      0.86         8\n",
            "\n",
            "0.75\n"
          ]
        },
        {
          "output_type": "stream",
          "name": "stderr",
          "text": [
            "/usr/local/lib/python3.9/dist-packages/sklearn/metrics/_classification.py:1344: UndefinedMetricWarning: Recall and F-score are ill-defined and being set to 0.0 in labels with no true samples. Use `zero_division` parameter to control this behavior.\n",
            "  _warn_prf(average, modifier, msg_start, len(result))\n",
            "/usr/local/lib/python3.9/dist-packages/sklearn/metrics/_classification.py:1344: UndefinedMetricWarning: Recall and F-score are ill-defined and being set to 0.0 in labels with no true samples. Use `zero_division` parameter to control this behavior.\n",
            "  _warn_prf(average, modifier, msg_start, len(result))\n",
            "/usr/local/lib/python3.9/dist-packages/sklearn/metrics/_classification.py:1344: UndefinedMetricWarning: Recall and F-score are ill-defined and being set to 0.0 in labels with no true samples. Use `zero_division` parameter to control this behavior.\n",
            "  _warn_prf(average, modifier, msg_start, len(result))\n"
          ]
        }
      ]
    },
    {
      "cell_type": "code",
      "metadata": {
        "id": "UqiSxzUDRsid",
        "colab": {
          "base_uri": "https://localhost:8080/",
          "height": 775
        },
        "outputId": "25e24112-6f2f-4797-b1e2-5bbb945f3dbc"
      },
      "source": [
        "#tree.plot_tree(classificador_tree, feature_names=True)\n",
        "print(y.name)\n",
        "import graphviz \n",
        "dot_data = tree.export_graphviz(classificador_tree, out_file=None, feature_names=atributos, class_names=['FICOU', 'SAIU'],filled=True, rounded=True, special_characters=True)  \n",
        "#tree.export_graphviz()\n",
        "graph = graphviz.Source(dot_data)  \n",
        "graph "
      ],
      "execution_count": 37,
      "outputs": [
        {
          "output_type": "stream",
          "name": "stdout",
          "text": [
            "risco\n"
          ]
        },
        {
          "output_type": "execute_result",
          "data": {
            "text/plain": [
              "<graphviz.files.Source at 0x7f3dcff2b8e0>"
            ],
            "image/svg+xml": "<?xml version=\"1.0\" encoding=\"UTF-8\" standalone=\"no\"?>\n<!DOCTYPE svg PUBLIC \"-//W3C//DTD SVG 1.1//EN\"\n \"http://www.w3.org/Graphics/SVG/1.1/DTD/svg11.dtd\">\n<!-- Generated by graphviz version 2.43.0 (0)\n -->\n<!-- Title: Tree Pages: 1 -->\n<svg width=\"678pt\" height=\"552pt\"\n viewBox=\"0.00 0.00 678.00 552.00\" xmlns=\"http://www.w3.org/2000/svg\" xmlns:xlink=\"http://www.w3.org/1999/xlink\">\n<g id=\"graph0\" class=\"graph\" transform=\"scale(1 1) rotate(0) translate(4 548)\">\n<title>Tree</title>\n<polygon fill=\"white\" stroke=\"transparent\" points=\"-4,4 -4,-548 674,-548 674,4 -4,4\"/>\n<!-- 0 -->\n<g id=\"node1\" class=\"node\">\n<title>0</title>\n<path fill=\"#ffffff\" stroke=\"black\" d=\"M341.5,-544C341.5,-544 216.5,-544 216.5,-544 210.5,-544 204.5,-538 204.5,-532 204.5,-532 204.5,-473 204.5,-473 204.5,-467 210.5,-461 216.5,-461 216.5,-461 341.5,-461 341.5,-461 347.5,-461 353.5,-467 353.5,-473 353.5,-473 353.5,-532 353.5,-532 353.5,-538 347.5,-544 341.5,-544\"/>\n<text text-anchor=\"start\" x=\"212.5\" y=\"-528.8\" font-family=\"Helvetica,sans-Serif\" font-size=\"14.00\">divida_total ≤ 11500.0</text>\n<text text-anchor=\"start\" x=\"251\" y=\"-513.8\" font-family=\"Helvetica,sans-Serif\" font-size=\"14.00\">gini = 0.5</text>\n<text text-anchor=\"start\" x=\"238\" y=\"-498.8\" font-family=\"Helvetica,sans-Serif\" font-size=\"14.00\">samples = 32</text>\n<text text-anchor=\"start\" x=\"232\" y=\"-483.8\" font-family=\"Helvetica,sans-Serif\" font-size=\"14.00\">value = [16, 16]</text>\n<text text-anchor=\"start\" x=\"234\" y=\"-468.8\" font-family=\"Helvetica,sans-Serif\" font-size=\"14.00\">class = FICOU</text>\n</g>\n<!-- 1 -->\n<g id=\"node2\" class=\"node\">\n<title>1</title>\n<path fill=\"#6ab6ec\" stroke=\"black\" d=\"M258.5,-425C258.5,-425 123.5,-425 123.5,-425 117.5,-425 111.5,-419 111.5,-413 111.5,-413 111.5,-354 111.5,-354 111.5,-348 117.5,-342 123.5,-342 123.5,-342 258.5,-342 258.5,-342 264.5,-342 270.5,-348 270.5,-354 270.5,-354 270.5,-413 270.5,-413 270.5,-419 264.5,-425 258.5,-425\"/>\n<text text-anchor=\"start\" x=\"119.5\" y=\"-409.8\" font-family=\"Helvetica,sans-Serif\" font-size=\"14.00\">renda_mensal ≤ 3600.0</text>\n<text text-anchor=\"start\" x=\"159\" y=\"-394.8\" font-family=\"Helvetica,sans-Serif\" font-size=\"14.00\">gini = 0.32</text>\n<text text-anchor=\"start\" x=\"150\" y=\"-379.8\" font-family=\"Helvetica,sans-Serif\" font-size=\"14.00\">samples = 15</text>\n<text text-anchor=\"start\" x=\"148\" y=\"-364.8\" font-family=\"Helvetica,sans-Serif\" font-size=\"14.00\">value = [3, 12]</text>\n<text text-anchor=\"start\" x=\"151.5\" y=\"-349.8\" font-family=\"Helvetica,sans-Serif\" font-size=\"14.00\">class = SAIU</text>\n</g>\n<!-- 0&#45;&gt;1 -->\n<g id=\"edge1\" class=\"edge\">\n<title>0&#45;&gt;1</title>\n<path fill=\"none\" stroke=\"black\" d=\"M248.47,-460.91C241.71,-451.92 234.48,-442.32 227.52,-433.05\"/>\n<polygon fill=\"black\" stroke=\"black\" points=\"230.29,-430.91 221.48,-425.02 224.69,-435.12 230.29,-430.91\"/>\n<text text-anchor=\"middle\" x=\"217.98\" y=\"-446.07\" font-family=\"Helvetica,sans-Serif\" font-size=\"14.00\">True</text>\n</g>\n<!-- 8 -->\n<g id=\"node9\" class=\"node\">\n<title>8</title>\n<path fill=\"#eda876\" stroke=\"black\" d=\"M435.5,-425C435.5,-425 300.5,-425 300.5,-425 294.5,-425 288.5,-419 288.5,-413 288.5,-413 288.5,-354 288.5,-354 288.5,-348 294.5,-342 300.5,-342 300.5,-342 435.5,-342 435.5,-342 441.5,-342 447.5,-348 447.5,-354 447.5,-354 447.5,-413 447.5,-413 447.5,-419 441.5,-425 435.5,-425\"/>\n<text text-anchor=\"start\" x=\"296.5\" y=\"-409.8\" font-family=\"Helvetica,sans-Serif\" font-size=\"14.00\">renda_mensal ≤ 9700.0</text>\n<text text-anchor=\"start\" x=\"336\" y=\"-394.8\" font-family=\"Helvetica,sans-Serif\" font-size=\"14.00\">gini = 0.36</text>\n<text text-anchor=\"start\" x=\"327\" y=\"-379.8\" font-family=\"Helvetica,sans-Serif\" font-size=\"14.00\">samples = 17</text>\n<text text-anchor=\"start\" x=\"325\" y=\"-364.8\" font-family=\"Helvetica,sans-Serif\" font-size=\"14.00\">value = [13, 4]</text>\n<text text-anchor=\"start\" x=\"323\" y=\"-349.8\" font-family=\"Helvetica,sans-Serif\" font-size=\"14.00\">class = FICOU</text>\n</g>\n<!-- 0&#45;&gt;8 -->\n<g id=\"edge8\" class=\"edge\">\n<title>0&#45;&gt;8</title>\n<path fill=\"none\" stroke=\"black\" d=\"M309.88,-460.91C316.71,-451.92 324.02,-442.32 331.07,-433.05\"/>\n<polygon fill=\"black\" stroke=\"black\" points=\"333.91,-435.1 337.18,-425.02 328.34,-430.86 333.91,-435.1\"/>\n<text text-anchor=\"middle\" x=\"340.54\" y=\"-446.09\" font-family=\"Helvetica,sans-Serif\" font-size=\"14.00\">False</text>\n</g>\n<!-- 2 -->\n<g id=\"node3\" class=\"node\">\n<title>2</title>\n<path fill=\"#e58139\" stroke=\"black\" d=\"M94,-298.5C94,-298.5 12,-298.5 12,-298.5 6,-298.5 0,-292.5 0,-286.5 0,-286.5 0,-242.5 0,-242.5 0,-236.5 6,-230.5 12,-230.5 12,-230.5 94,-230.5 94,-230.5 100,-230.5 106,-236.5 106,-242.5 106,-242.5 106,-286.5 106,-286.5 106,-292.5 100,-298.5 94,-298.5\"/>\n<text text-anchor=\"start\" x=\"25\" y=\"-283.3\" font-family=\"Helvetica,sans-Serif\" font-size=\"14.00\">gini = 0.0</text>\n<text text-anchor=\"start\" x=\"15.5\" y=\"-268.3\" font-family=\"Helvetica,sans-Serif\" font-size=\"14.00\">samples = 2</text>\n<text text-anchor=\"start\" x=\"13.5\" y=\"-253.3\" font-family=\"Helvetica,sans-Serif\" font-size=\"14.00\">value = [2, 0]</text>\n<text text-anchor=\"start\" x=\"8\" y=\"-238.3\" font-family=\"Helvetica,sans-Serif\" font-size=\"14.00\">class = FICOU</text>\n</g>\n<!-- 1&#45;&gt;2 -->\n<g id=\"edge2\" class=\"edge\">\n<title>1&#45;&gt;2</title>\n<path fill=\"none\" stroke=\"black\" d=\"M143.12,-341.91C129.2,-330.1 114,-317.22 100.12,-305.45\"/>\n<polygon fill=\"black\" stroke=\"black\" points=\"102.01,-302.46 92.12,-298.67 97.48,-307.8 102.01,-302.46\"/>\n</g>\n<!-- 3 -->\n<g id=\"node4\" class=\"node\">\n<title>3</title>\n<path fill=\"#49a5e7\" stroke=\"black\" d=\"M261.5,-306C261.5,-306 136.5,-306 136.5,-306 130.5,-306 124.5,-300 124.5,-294 124.5,-294 124.5,-235 124.5,-235 124.5,-229 130.5,-223 136.5,-223 136.5,-223 261.5,-223 261.5,-223 267.5,-223 273.5,-229 273.5,-235 273.5,-235 273.5,-294 273.5,-294 273.5,-300 267.5,-306 261.5,-306\"/>\n<text text-anchor=\"start\" x=\"132.5\" y=\"-290.8\" font-family=\"Helvetica,sans-Serif\" font-size=\"14.00\">divida_total ≤ 10000.0</text>\n<text text-anchor=\"start\" x=\"163.5\" y=\"-275.8\" font-family=\"Helvetica,sans-Serif\" font-size=\"14.00\">gini = 0.142</text>\n<text text-anchor=\"start\" x=\"158\" y=\"-260.8\" font-family=\"Helvetica,sans-Serif\" font-size=\"14.00\">samples = 13</text>\n<text text-anchor=\"start\" x=\"156\" y=\"-245.8\" font-family=\"Helvetica,sans-Serif\" font-size=\"14.00\">value = [1, 12]</text>\n<text text-anchor=\"start\" x=\"159.5\" y=\"-230.8\" font-family=\"Helvetica,sans-Serif\" font-size=\"14.00\">class = SAIU</text>\n</g>\n<!-- 1&#45;&gt;3 -->\n<g id=\"edge3\" class=\"edge\">\n<title>1&#45;&gt;3</title>\n<path fill=\"none\" stroke=\"black\" d=\"M193.78,-341.91C194.35,-333.56 194.95,-324.67 195.55,-316.02\"/>\n<polygon fill=\"black\" stroke=\"black\" points=\"199.04,-316.24 196.23,-306.02 192.06,-315.76 199.04,-316.24\"/>\n</g>\n<!-- 4 -->\n<g id=\"node5\" class=\"node\">\n<title>4</title>\n<path fill=\"#399de5\" stroke=\"black\" d=\"M151,-179.5C151,-179.5 73,-179.5 73,-179.5 67,-179.5 61,-173.5 61,-167.5 61,-167.5 61,-123.5 61,-123.5 61,-117.5 67,-111.5 73,-111.5 73,-111.5 151,-111.5 151,-111.5 157,-111.5 163,-117.5 163,-123.5 163,-123.5 163,-167.5 163,-167.5 163,-173.5 157,-179.5 151,-179.5\"/>\n<text text-anchor=\"start\" x=\"84\" y=\"-164.3\" font-family=\"Helvetica,sans-Serif\" font-size=\"14.00\">gini = 0.0</text>\n<text text-anchor=\"start\" x=\"71\" y=\"-149.3\" font-family=\"Helvetica,sans-Serif\" font-size=\"14.00\">samples = 10</text>\n<text text-anchor=\"start\" x=\"69\" y=\"-134.3\" font-family=\"Helvetica,sans-Serif\" font-size=\"14.00\">value = [0, 10]</text>\n<text text-anchor=\"start\" x=\"72.5\" y=\"-119.3\" font-family=\"Helvetica,sans-Serif\" font-size=\"14.00\">class = SAIU</text>\n</g>\n<!-- 3&#45;&gt;4 -->\n<g id=\"edge4\" class=\"edge\">\n<title>3&#45;&gt;4</title>\n<path fill=\"none\" stroke=\"black\" d=\"M168.82,-222.91C160.36,-211.54 151.17,-199.18 142.69,-187.77\"/>\n<polygon fill=\"black\" stroke=\"black\" points=\"145.44,-185.6 136.66,-179.67 139.82,-189.78 145.44,-185.6\"/>\n</g>\n<!-- 5 -->\n<g id=\"node6\" class=\"node\">\n<title>5</title>\n<path fill=\"#9ccef2\" stroke=\"black\" d=\"M264.5,-187C264.5,-187 193.5,-187 193.5,-187 187.5,-187 181.5,-181 181.5,-175 181.5,-175 181.5,-116 181.5,-116 181.5,-110 187.5,-104 193.5,-104 193.5,-104 264.5,-104 264.5,-104 270.5,-104 276.5,-110 276.5,-116 276.5,-116 276.5,-175 276.5,-175 276.5,-181 270.5,-187 264.5,-187\"/>\n<text text-anchor=\"start\" x=\"195.5\" y=\"-171.8\" font-family=\"Helvetica,sans-Serif\" font-size=\"14.00\">idade ≤ 2.5</text>\n<text text-anchor=\"start\" x=\"193.5\" y=\"-156.8\" font-family=\"Helvetica,sans-Serif\" font-size=\"14.00\">gini = 0.444</text>\n<text text-anchor=\"start\" x=\"191.5\" y=\"-141.8\" font-family=\"Helvetica,sans-Serif\" font-size=\"14.00\">samples = 3</text>\n<text text-anchor=\"start\" x=\"189.5\" y=\"-126.8\" font-family=\"Helvetica,sans-Serif\" font-size=\"14.00\">value = [1, 2]</text>\n<text text-anchor=\"start\" x=\"189.5\" y=\"-111.8\" font-family=\"Helvetica,sans-Serif\" font-size=\"14.00\">class = SAIU</text>\n</g>\n<!-- 3&#45;&gt;5 -->\n<g id=\"edge5\" class=\"edge\">\n<title>3&#45;&gt;5</title>\n<path fill=\"none\" stroke=\"black\" d=\"M209.41,-222.91C211.57,-214.47 213.88,-205.48 216.12,-196.74\"/>\n<polygon fill=\"black\" stroke=\"black\" points=\"219.52,-197.58 218.61,-187.02 212.74,-195.84 219.52,-197.58\"/>\n</g>\n<!-- 6 -->\n<g id=\"node7\" class=\"node\">\n<title>6</title>\n<path fill=\"#399de5\" stroke=\"black\" d=\"M208.5,-68C208.5,-68 137.5,-68 137.5,-68 131.5,-68 125.5,-62 125.5,-56 125.5,-56 125.5,-12 125.5,-12 125.5,-6 131.5,0 137.5,0 137.5,0 208.5,0 208.5,0 214.5,0 220.5,-6 220.5,-12 220.5,-12 220.5,-56 220.5,-56 220.5,-62 214.5,-68 208.5,-68\"/>\n<text text-anchor=\"start\" x=\"145\" y=\"-52.8\" font-family=\"Helvetica,sans-Serif\" font-size=\"14.00\">gini = 0.0</text>\n<text text-anchor=\"start\" x=\"135.5\" y=\"-37.8\" font-family=\"Helvetica,sans-Serif\" font-size=\"14.00\">samples = 2</text>\n<text text-anchor=\"start\" x=\"133.5\" y=\"-22.8\" font-family=\"Helvetica,sans-Serif\" font-size=\"14.00\">value = [0, 2]</text>\n<text text-anchor=\"start\" x=\"133.5\" y=\"-7.8\" font-family=\"Helvetica,sans-Serif\" font-size=\"14.00\">class = SAIU</text>\n</g>\n<!-- 5&#45;&gt;6 -->\n<g id=\"edge6\" class=\"edge\">\n<title>5&#45;&gt;6</title>\n<path fill=\"none\" stroke=\"black\" d=\"M208.15,-103.73C203.76,-95.15 199.13,-86.09 194.71,-77.46\"/>\n<polygon fill=\"black\" stroke=\"black\" points=\"197.7,-75.61 190.03,-68.3 191.47,-78.8 197.7,-75.61\"/>\n</g>\n<!-- 7 -->\n<g id=\"node8\" class=\"node\">\n<title>7</title>\n<path fill=\"#e58139\" stroke=\"black\" d=\"M333,-68C333,-68 251,-68 251,-68 245,-68 239,-62 239,-56 239,-56 239,-12 239,-12 239,-6 245,0 251,0 251,0 333,0 333,0 339,0 345,-6 345,-12 345,-12 345,-56 345,-56 345,-62 339,-68 333,-68\"/>\n<text text-anchor=\"start\" x=\"264\" y=\"-52.8\" font-family=\"Helvetica,sans-Serif\" font-size=\"14.00\">gini = 0.0</text>\n<text text-anchor=\"start\" x=\"254.5\" y=\"-37.8\" font-family=\"Helvetica,sans-Serif\" font-size=\"14.00\">samples = 1</text>\n<text text-anchor=\"start\" x=\"252.5\" y=\"-22.8\" font-family=\"Helvetica,sans-Serif\" font-size=\"14.00\">value = [1, 0]</text>\n<text text-anchor=\"start\" x=\"247\" y=\"-7.8\" font-family=\"Helvetica,sans-Serif\" font-size=\"14.00\">class = FICOU</text>\n</g>\n<!-- 5&#45;&gt;7 -->\n<g id=\"edge7\" class=\"edge\">\n<title>5&#45;&gt;7</title>\n<path fill=\"none\" stroke=\"black\" d=\"M252.46,-103.73C257.44,-95.06 262.72,-85.9 267.73,-77.18\"/>\n<polygon fill=\"black\" stroke=\"black\" points=\"270.89,-78.71 272.84,-68.3 264.82,-75.22 270.89,-78.71\"/>\n</g>\n<!-- 9 -->\n<g id=\"node10\" class=\"node\">\n<title>9</title>\n<path fill=\"#e58139\" stroke=\"black\" d=\"M405,-298.5C405,-298.5 323,-298.5 323,-298.5 317,-298.5 311,-292.5 311,-286.5 311,-286.5 311,-242.5 311,-242.5 311,-236.5 317,-230.5 323,-230.5 323,-230.5 405,-230.5 405,-230.5 411,-230.5 417,-236.5 417,-242.5 417,-242.5 417,-286.5 417,-286.5 417,-292.5 411,-298.5 405,-298.5\"/>\n<text text-anchor=\"start\" x=\"336\" y=\"-283.3\" font-family=\"Helvetica,sans-Serif\" font-size=\"14.00\">gini = 0.0</text>\n<text text-anchor=\"start\" x=\"326.5\" y=\"-268.3\" font-family=\"Helvetica,sans-Serif\" font-size=\"14.00\">samples = 8</text>\n<text text-anchor=\"start\" x=\"324.5\" y=\"-253.3\" font-family=\"Helvetica,sans-Serif\" font-size=\"14.00\">value = [8, 0]</text>\n<text text-anchor=\"start\" x=\"319\" y=\"-238.3\" font-family=\"Helvetica,sans-Serif\" font-size=\"14.00\">class = FICOU</text>\n</g>\n<!-- 8&#45;&gt;9 -->\n<g id=\"edge9\" class=\"edge\">\n<title>8&#45;&gt;9</title>\n<path fill=\"none\" stroke=\"black\" d=\"M366.61,-341.91C366.25,-331.2 365.85,-319.62 365.48,-308.78\"/>\n<polygon fill=\"black\" stroke=\"black\" points=\"368.97,-308.54 365.13,-298.67 361.98,-308.78 368.97,-308.54\"/>\n</g>\n<!-- 10 -->\n<g id=\"node11\" class=\"node\">\n<title>10</title>\n<path fill=\"#fae6d7\" stroke=\"black\" d=\"M529,-306C529,-306 447,-306 447,-306 441,-306 435,-300 435,-294 435,-294 435,-235 435,-235 435,-229 441,-223 447,-223 447,-223 529,-223 529,-223 535,-223 541,-229 541,-235 541,-235 541,-294 541,-294 541,-300 535,-306 529,-306\"/>\n<text text-anchor=\"start\" x=\"454.5\" y=\"-290.8\" font-family=\"Helvetica,sans-Serif\" font-size=\"14.00\">idade ≤ 2.5</text>\n<text text-anchor=\"start\" x=\"452.5\" y=\"-275.8\" font-family=\"Helvetica,sans-Serif\" font-size=\"14.00\">gini = 0.494</text>\n<text text-anchor=\"start\" x=\"450.5\" y=\"-260.8\" font-family=\"Helvetica,sans-Serif\" font-size=\"14.00\">samples = 9</text>\n<text text-anchor=\"start\" x=\"448.5\" y=\"-245.8\" font-family=\"Helvetica,sans-Serif\" font-size=\"14.00\">value = [5, 4]</text>\n<text text-anchor=\"start\" x=\"443\" y=\"-230.8\" font-family=\"Helvetica,sans-Serif\" font-size=\"14.00\">class = FICOU</text>\n</g>\n<!-- 8&#45;&gt;10 -->\n<g id=\"edge10\" class=\"edge\">\n<title>8&#45;&gt;10</title>\n<path fill=\"none\" stroke=\"black\" d=\"M409.63,-341.91C419.13,-332.65 429.3,-322.73 439.07,-313.21\"/>\n<polygon fill=\"black\" stroke=\"black\" points=\"441.72,-315.51 446.44,-306.02 436.84,-310.5 441.72,-315.51\"/>\n</g>\n<!-- 11 -->\n<g id=\"node12\" class=\"node\">\n<title>11</title>\n<path fill=\"#6ab6ec\" stroke=\"black\" d=\"M534.5,-187C534.5,-187 409.5,-187 409.5,-187 403.5,-187 397.5,-181 397.5,-175 397.5,-175 397.5,-116 397.5,-116 397.5,-110 403.5,-104 409.5,-104 409.5,-104 534.5,-104 534.5,-104 540.5,-104 546.5,-110 546.5,-116 546.5,-116 546.5,-175 546.5,-175 546.5,-181 540.5,-187 534.5,-187\"/>\n<text text-anchor=\"start\" x=\"405.5\" y=\"-171.8\" font-family=\"Helvetica,sans-Serif\" font-size=\"14.00\">divida_total ≤ 25000.0</text>\n<text text-anchor=\"start\" x=\"440\" y=\"-156.8\" font-family=\"Helvetica,sans-Serif\" font-size=\"14.00\">gini = 0.32</text>\n<text text-anchor=\"start\" x=\"434.5\" y=\"-141.8\" font-family=\"Helvetica,sans-Serif\" font-size=\"14.00\">samples = 5</text>\n<text text-anchor=\"start\" x=\"432.5\" y=\"-126.8\" font-family=\"Helvetica,sans-Serif\" font-size=\"14.00\">value = [1, 4]</text>\n<text text-anchor=\"start\" x=\"432.5\" y=\"-111.8\" font-family=\"Helvetica,sans-Serif\" font-size=\"14.00\">class = SAIU</text>\n</g>\n<!-- 10&#45;&gt;11 -->\n<g id=\"edge11\" class=\"edge\">\n<title>10&#45;&gt;11</title>\n<path fill=\"none\" stroke=\"black\" d=\"M482.45,-222.91C481.31,-214.56 480.09,-205.67 478.91,-197.02\"/>\n<polygon fill=\"black\" stroke=\"black\" points=\"482.36,-196.45 477.54,-187.02 475.43,-197.4 482.36,-196.45\"/>\n</g>\n<!-- 14 -->\n<g id=\"node15\" class=\"node\">\n<title>14</title>\n<path fill=\"#e58139\" stroke=\"black\" d=\"M658,-179.5C658,-179.5 576,-179.5 576,-179.5 570,-179.5 564,-173.5 564,-167.5 564,-167.5 564,-123.5 564,-123.5 564,-117.5 570,-111.5 576,-111.5 576,-111.5 658,-111.5 658,-111.5 664,-111.5 670,-117.5 670,-123.5 670,-123.5 670,-167.5 670,-167.5 670,-173.5 664,-179.5 658,-179.5\"/>\n<text text-anchor=\"start\" x=\"589\" y=\"-164.3\" font-family=\"Helvetica,sans-Serif\" font-size=\"14.00\">gini = 0.0</text>\n<text text-anchor=\"start\" x=\"579.5\" y=\"-149.3\" font-family=\"Helvetica,sans-Serif\" font-size=\"14.00\">samples = 4</text>\n<text text-anchor=\"start\" x=\"577.5\" y=\"-134.3\" font-family=\"Helvetica,sans-Serif\" font-size=\"14.00\">value = [4, 0]</text>\n<text text-anchor=\"start\" x=\"572\" y=\"-119.3\" font-family=\"Helvetica,sans-Serif\" font-size=\"14.00\">class = FICOU</text>\n</g>\n<!-- 10&#45;&gt;14 -->\n<g id=\"edge14\" class=\"edge\">\n<title>10&#45;&gt;14</title>\n<path fill=\"none\" stroke=\"black\" d=\"M532.76,-222.91C545.77,-211.1 559.98,-198.22 572.95,-186.45\"/>\n<polygon fill=\"black\" stroke=\"black\" points=\"575.38,-188.98 580.43,-179.67 570.67,-183.79 575.38,-188.98\"/>\n</g>\n<!-- 12 -->\n<g id=\"node13\" class=\"node\">\n<title>12</title>\n<path fill=\"#399de5\" stroke=\"black\" d=\"M477.5,-68C477.5,-68 406.5,-68 406.5,-68 400.5,-68 394.5,-62 394.5,-56 394.5,-56 394.5,-12 394.5,-12 394.5,-6 400.5,0 406.5,0 406.5,0 477.5,0 477.5,0 483.5,0 489.5,-6 489.5,-12 489.5,-12 489.5,-56 489.5,-56 489.5,-62 483.5,-68 477.5,-68\"/>\n<text text-anchor=\"start\" x=\"414\" y=\"-52.8\" font-family=\"Helvetica,sans-Serif\" font-size=\"14.00\">gini = 0.0</text>\n<text text-anchor=\"start\" x=\"404.5\" y=\"-37.8\" font-family=\"Helvetica,sans-Serif\" font-size=\"14.00\">samples = 4</text>\n<text text-anchor=\"start\" x=\"402.5\" y=\"-22.8\" font-family=\"Helvetica,sans-Serif\" font-size=\"14.00\">value = [0, 4]</text>\n<text text-anchor=\"start\" x=\"402.5\" y=\"-7.8\" font-family=\"Helvetica,sans-Serif\" font-size=\"14.00\">class = SAIU</text>\n</g>\n<!-- 11&#45;&gt;12 -->\n<g id=\"edge12\" class=\"edge\">\n<title>11&#45;&gt;12</title>\n<path fill=\"none\" stroke=\"black\" d=\"M460.83,-103.73C458.53,-95.34 456.1,-86.47 453.78,-78.01\"/>\n<polygon fill=\"black\" stroke=\"black\" points=\"457.14,-77.02 451.12,-68.3 450.39,-78.87 457.14,-77.02\"/>\n</g>\n<!-- 13 -->\n<g id=\"node14\" class=\"node\">\n<title>13</title>\n<path fill=\"#e58139\" stroke=\"black\" d=\"M602,-68C602,-68 520,-68 520,-68 514,-68 508,-62 508,-56 508,-56 508,-12 508,-12 508,-6 514,0 520,0 520,0 602,0 602,0 608,0 614,-6 614,-12 614,-12 614,-56 614,-56 614,-62 608,-68 602,-68\"/>\n<text text-anchor=\"start\" x=\"533\" y=\"-52.8\" font-family=\"Helvetica,sans-Serif\" font-size=\"14.00\">gini = 0.0</text>\n<text text-anchor=\"start\" x=\"523.5\" y=\"-37.8\" font-family=\"Helvetica,sans-Serif\" font-size=\"14.00\">samples = 1</text>\n<text text-anchor=\"start\" x=\"521.5\" y=\"-22.8\" font-family=\"Helvetica,sans-Serif\" font-size=\"14.00\">value = [1, 0]</text>\n<text text-anchor=\"start\" x=\"516\" y=\"-7.8\" font-family=\"Helvetica,sans-Serif\" font-size=\"14.00\">class = FICOU</text>\n</g>\n<!-- 11&#45;&gt;13 -->\n<g id=\"edge13\" class=\"edge\">\n<title>11&#45;&gt;13</title>\n<path fill=\"none\" stroke=\"black\" d=\"M505.14,-103.73C512.48,-94.7 520.26,-85.12 527.61,-76.08\"/>\n<polygon fill=\"black\" stroke=\"black\" points=\"530.34,-78.27 533.93,-68.3 524.91,-73.85 530.34,-78.27\"/>\n</g>\n</g>\n</svg>\n"
          },
          "metadata": {},
          "execution_count": 37
        }
      ]
    },
    {
      "cell_type": "code",
      "metadata": {
        "id": "ao9PeHKoNg3c",
        "colab": {
          "base_uri": "https://localhost:8080/"
        },
        "outputId": "5253f7ca-6e66-4ff4-e824-63f7c23dc981"
      },
      "source": [
        "# Visualizar as features mais importantes\n",
        "print(classificador_tree.feature_importances_)\n",
        "for feature,importancia in zip(atributos,classificador_tree.feature_importances_):\n",
        "    print(\"{}:{}\".format(feature, importancia))"
      ],
      "execution_count": 38,
      "outputs": [
        {
          "output_type": "stream",
          "name": "stdout",
          "text": [
            "[0.28919055 0.44969834 0.26111111]\n",
            "renda_mensal:0.2891905480140774\n",
            "divida_total:0.4496983408748115\n",
            "idade:0.2611111111111111\n"
          ]
        }
      ]
    }
  ]
}